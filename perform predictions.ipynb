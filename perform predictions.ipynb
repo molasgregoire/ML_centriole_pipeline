{
 "cells": [
  {
   "cell_type": "code",
   "execution_count": 16,
   "metadata": {},
   "outputs": [],
   "source": [
    "#basics\n",
    "import pandas as pd\n",
    "import numpy as np\n",
    "import matplotlib.pyplot as plt\n",
    "import cv2 as cv\n",
    "#pytorch\n",
    "import torch\n",
    "import torch.nn as nn\n",
    "from torch.utils.data import TensorDataset, DataLoader\n",
    "#functions file\n",
    "from functions import *\n",
    "#counting time\n",
    "import time\n",
    "\n",
    "import scipy.ndimage.filters as filters\n",
    "from skimage.feature import peak_local_max"
   ]
  },
  {
   "cell_type": "code",
   "execution_count": 2,
   "metadata": {},
   "outputs": [],
   "source": [
    "# reload the model\n",
    "# if you used a customized model you need to change the class below\n",
    "\n",
    "# class\n",
    "class Pixel14(torch.nn.Module):\n",
    "    def __init__(self):\n",
    "        super().__init__()\n",
    "        self.conv1 = torch.nn.Conv2d(2, 21, kernel_size=3)\n",
    "        self.conv2 = torch.nn.Conv2d(21, 42, kernel_size=3)\n",
    "        n = 168\n",
    "        self.fc1 = torch.nn.Linear(168,n,bias=True)\n",
    "        self.fc2 = torch.nn.Linear(n,n,bias=True)\n",
    "        self.fc3 = torch.nn.Linear(n,n,bias=True)\n",
    "        self.fc4 = torch.nn.Linear(n,n,bias=True)\n",
    "        self.fc5 = torch.nn.Linear(n,n,bias=True)\n",
    "        # out layer\n",
    "        self.fcOut = torch.nn.Linear(n, 1,bias=True)\n",
    "      \n",
    "    def forward(self, x):\n",
    "        relu = torch.nn.functional.relu\n",
    "        max_pool2d = torch.nn.functional.max_pool2d\n",
    "        # convolutions\n",
    "        x = relu(max_pool2d(self.conv1(x),2))\n",
    "        x = relu(max_pool2d(self.conv2(x),2))\n",
    "        x = x.view(-1,168)\n",
    "        # linear layers\n",
    "        x = relu(self.fc1(x))\n",
    "        x = relu(self.fc2(x))\n",
    "        x = relu(self.fc3(x))\n",
    "        x = relu(self.fc4(x))\n",
    "        x = relu(self.fc5(x))\n",
    "        \n",
    "        \n",
    "        # out layer\n",
    "        x = self.fcOut(x)\n",
    "        return torch.sigmoid(x)\n",
    "\n",
    "path_to_model = 'models/my_model'\n",
    "\n",
    "load = torch.load(path_to_model)"
   ]
  },
  {
   "cell_type": "code",
   "execution_count": 11,
   "metadata": {},
   "outputs": [],
   "source": [
    "#parameter \n",
    "thr_permissivity = 0.005    #-> proportion of pixel kept in the image by quantile selction (foreground selection)\n",
    "\n",
    "thr_predictions = 0.05      #-> threshold to filter the prediction map\n",
    "                            #-> better to check the best value with findBestThr"
   ]
  },
  {
   "cell_type": "code",
   "execution_count": 5,
   "metadata": {},
   "outputs": [
    {
     "name": "stdout",
     "output_type": "stream",
     "text": [
      "number of images 247\n"
     ]
    }
   ],
   "source": [
    "### Load images\n",
    "\n",
    "# import images + the corresponding names\n",
    "## Load using channels\n",
    "channels = [0,1,2]\n",
    "images,names = loadAllCtrImages(channels=channels, format_=\"tif\", path = path)\n",
    "\n",
    "print( 'number of images ' + str(len(images)) )"
   ]
  },
  {
   "cell_type": "code",
   "execution_count": 6,
   "metadata": {},
   "outputs": [
    {
     "name": "stdout",
     "output_type": "stream",
     "text": [
      "number of images 25\n"
     ]
    }
   ],
   "source": [
    "## load using a single folder (a single type of fluorescence)\n",
    "# example with CP110\n",
    "path = 'data/RPE1wt_CP110+GTU88+PCNT_2/CP110/tif'\n",
    "\n",
    "images = []\n",
    "names = [f for f in listdir(path) if isfile(join(path, f))]\n",
    "\n",
    "for n in names:\n",
    "    images.append( cv.imread( path + '/' + n , cv.IMREAD_UNCHANGED) )\n",
    "\n",
    "names = [n[:-4] for n in names]\n",
    "\n",
    "print( 'number of images ' + str(len(images)) )"
   ]
  },
  {
   "cell_type": "code",
   "execution_count": null,
   "metadata": {},
   "outputs": [],
   "source": [
    "## uncomment if you want to use a certain number of random images in the list\n",
    "'''\n",
    "spl_nb = 20\n",
    "\n",
    "indexes_spl = [ i for i in range(len(images)) ]\n",
    "np.random.shuffle( indexes_spl )\n",
    "\n",
    "spl_images = []\n",
    "spl_names = []\n",
    "\n",
    "for i in indexes_spl[:spl_nb]:\n",
    "    spl_images.append( images[i] )\n",
    "    spl_names.append( names[i] )\n",
    "    \n",
    "images = spl_images\n",
    "names = spl_names\n",
    "'''"
   ]
  },
  {
   "cell_type": "code",
   "execution_count": 8,
   "metadata": {},
   "outputs": [],
   "source": [
    "# generate the predictions map using the model\n",
    "list_predictions = generatePredictions( normalizeImages( images ), load, thr_permissivity )"
   ]
  },
  {
   "cell_type": "code",
   "execution_count": 22,
   "metadata": {},
   "outputs": [],
   "source": [
    "df = generateDataFrame( list_predictions, names, thr_predictions )"
   ]
  },
  {
   "cell_type": "code",
   "execution_count": null,
   "metadata": {},
   "outputs": [],
   "source": [
    "#save the dataframe\n",
    "save_name = 'my_predictions.csv'\n",
    "df.to_csv( save_name )"
   ]
  }
 ],
 "metadata": {
  "kernelspec": {
   "display_name": "Python 3",
   "language": "python",
   "name": "python3"
  },
  "language_info": {
   "codemirror_mode": {
    "name": "ipython",
    "version": 3
   },
   "file_extension": ".py",
   "mimetype": "text/x-python",
   "name": "python",
   "nbconvert_exporter": "python",
   "pygments_lexer": "ipython3",
   "version": "3.7.6"
  }
 },
 "nbformat": 4,
 "nbformat_minor": 4
}
